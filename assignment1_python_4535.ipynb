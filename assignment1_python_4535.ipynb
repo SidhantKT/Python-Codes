{
 "cells": [
  {
   "cell_type": "code",
   "execution_count": 1,
   "metadata": {},
   "outputs": [
    {
     "name": "stdout",
     "output_type": "stream",
     "text": [
      "fizzbuzz\n",
      "1\n",
      "2\n",
      "fizz\n",
      "4\n",
      "buzz\n",
      "fizz\n",
      "7\n",
      "8\n",
      "fizz\n",
      "buzz\n",
      "11\n",
      "fizz\n",
      "13\n",
      "14\n",
      "fizzbuzz\n",
      "16\n",
      "17\n",
      "fizz\n",
      "19\n",
      "buzz\n",
      "fizz\n",
      "22\n",
      "23\n",
      "fizz\n",
      "buzz\n",
      "26\n",
      "fizz\n",
      "28\n",
      "29\n",
      "fizzbuzz\n",
      "31\n",
      "32\n",
      "fizz\n",
      "34\n",
      "buzz\n",
      "fizz\n",
      "37\n",
      "38\n",
      "fizz\n",
      "buzz\n",
      "41\n",
      "fizz\n",
      "43\n",
      "44\n",
      "fizzbuzz\n",
      "46\n",
      "47\n",
      "fizz\n",
      "49\n",
      "buzz\n"
     ]
    }
   ],
   "source": [
    "#print fizzfuzz and normal numbers \n",
    "for i in range(0, ):\n",
    "    if(i%3 == 0 and i%5 ==0):\n",
    "        print(\"fizzbuzz\")\n",
    "        continue\n",
    "    elif(i%5 == 0):\n",
    "        print(\"buzz\")\n",
    "        continue\n",
    "    elif(i%3 == 0):\n",
    "        print(\"fizz\")\n",
    "        continue\n",
    "    else:\n",
    "        print(i)"
   ]
  },
  {
   "cell_type": "code",
   "execution_count": null,
   "metadata": {},
   "outputs": [],
   "source": [
    "# number of letters and alphabets\n",
    "a= input(\"enter the string:: \")\n",
    "num=0\n",
    "letter=0\n",
    "for i in a:\n",
    "    if i==\"1\" or i==\"2\" or i==\"3\" or i==\"4\" or i==\"5\" or i==\"6\" or i==\"7\" or i==\"8\" or i==\"9\" or i==\"0\" :\n",
    "        num+=1\n",
    "    else:\n",
    "        letter+=1\n",
    "         \n",
    "print(\"letters =\", letter)\n",
    "print(\"numbers =\", num)"
   ]
  },
  {
   "cell_type": "code",
   "execution_count": 2,
   "metadata": {},
   "outputs": [
    {
     "name": "stdout",
     "output_type": "stream",
     "text": [
      "enter your guess:: 6\n",
      "enter your guess:: 9\n",
      "enter your guess:: 5\n",
      "well guessed!!!\n"
     ]
    }
   ],
   "source": [
    "#guessing game\n",
    "n=5\n",
    "flag=0\n",
    "while flag==0:\n",
    "    a=int(input(\"enter your guess:: \"))\n",
    "    if a==n:\n",
    "        print(\"well guessed!!!\")\n",
    "        flag=1\n",
    "        break\n",
    "    else:\n",
    "        continue\n",
    "    "
   ]
  },
  {
   "cell_type": "code",
   "execution_count": null,
   "metadata": {},
   "outputs": [],
   "source": [
    "#two dimensional array\n",
    "row_num = int(input(\"Input number of rows: \"))\n",
    "col_num = int(input(\"Input number of columns: \"))\n",
    "multi_list = [[0 for col in range(col_num)] for row in range(row_num)]\n",
    "\n",
    "for row in range(row_num):\n",
    "    for col in range(col_num):\n",
    "        multi_list[row][col]= row*col\n",
    "\n",
    "print(multi_list)"
   ]
  },
  {
   "cell_type": "code",
   "execution_count": null,
   "metadata": {},
   "outputs": [],
   "source": [
    "#days in a month\n",
    "print(\"List of months: January,February,March,April,May,June,July,August,September,October,November,December\")\n",
    "month = input(\"Input the name of Month: \")\n",
    "if(month == 'January' or month == 'March' or month == 'May' or month == 'July' or month == 'August' or month == 'October' or month == 'December'):\n",
    "    print(\"No. of Days: 31\")\n",
    "elif(month == 'April' or month == 'June' or month == 'September' or month == 'November'):\n",
    "    print(\"No. of Days: 30\")\n",
    "else:\n",
    "    print(\"No. of Days: 28/29\")"
   ]
  }
 ],
 "metadata": {
  "kernelspec": {
   "display_name": "Python 3",
   "language": "python",
   "name": "python3"
  },
  "language_info": {
   "codemirror_mode": {
    "name": "ipython",
    "version": 3
   },
   "file_extension": ".py",
   "mimetype": "text/x-python",
   "name": "python",
   "nbconvert_exporter": "python",
   "pygments_lexer": "ipython3",
   "version": "3.8.5"
  }
 },
 "nbformat": 4,
 "nbformat_minor": 4
}
