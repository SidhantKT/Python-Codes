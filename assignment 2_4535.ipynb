{
 "cells": [
  {
   "cell_type": "code",
   "execution_count": 1,
   "metadata": {},
   "outputs": [
    {
     "name": "stdout",
     "output_type": "stream",
     "text": [
      "Unique Values:  {'S001', 'S002', 'S007', 'S005', 'S009'}\n"
     ]
    }
   ],
   "source": [
    "# 1st question:\n",
    "\n",
    "list1 = [{\"V\":\"S001\"}, {\"V\": \"S002\"}, {\"VI\": \"S001\"}, {\"VI\": \"S005\"}, {\"VII\":\"S005\"}, {\"V\":\"S009\"},{\"VIII\":\"S007\"}]\n",
    "value = set( val for dic in list1 for val in dic.values())\n",
    "print(\"Unique Values: \",value)"
   ]
  },
  {
   "cell_type": "code",
   "execution_count": 19,
   "metadata": {},
   "outputs": [
    {
     "name": "stdout",
     "output_type": "stream",
     "text": [
      "{'x': [11, 12, 13, 14, 15, 16, 17, 18, 19], 'y': [21, 22, 23, 24, 25, 26, 27, 28, 29], 'z': [31, 32, 33, 34, 35, 36, 37, 38, 39]}\n",
      "15\n",
      "25\n",
      "35\n",
      "x has value [61, 12, 13, 14, 15, 16, 17, 18, 19]\n",
      "y has value [21, 22, 23, 24, 25, 26, 27, 28, 29]\n",
      "z has value [31, 32, 33, 34, 35, 36, 37, 38, 39]\n"
     ]
    }
   ],
   "source": [
    "# 2nd question:\n",
    "\n",
    "dictionary = dict(x=list(range(11, 20)), y=list(range(21, 30)), z=list(range(31, 40)))\n",
    "print(dictionary)\n",
    "print(dictionary[\"x\"][4])\n",
    "print(dictionary[\"y\"][4])\n",
    "print(dictionary[\"z\"][4])\n",
    "for k,v in dictionary.items():\n",
    "    print(k, \"has value\", v)"
   ]
  },
  {
   "cell_type": "code",
   "execution_count": 21,
   "metadata": {},
   "outputs": [
    {
     "name": "stdout",
     "output_type": "stream",
     "text": [
      "color: white vehicle name: school volvo Speed: 180 Mileage: 12\n",
      "color: white vehicle name: Audi Q5 Speed: 240 Mileage: 18\n"
     ]
    }
   ],
   "source": [
    "# 4th question:\n",
    "\n",
    "class Vehicle:\n",
    "    \n",
    "    vehicle_color = \"white\"\n",
    "\n",
    "    def __init__(self, name, max_speed, mileage):\n",
    "        self.name = name\n",
    "        self.max_speed = max_speed\n",
    "        self.mileage = mileage\n",
    "\n",
    "class Bus(Vehicle):\n",
    "    pass\n",
    "\n",
    "class Car(Vehicle):\n",
    "    pass\n",
    "\n",
    "volvo = Bus(\"school volvo\", 180, 12)\n",
    "print(\"color:\",volvo.vehicle_color, \"vehicle name:\", volvo.name, \"Speed:\", volvo.max_speed, \"Mileage:\", volvo.mileage)\n",
    "\n",
    "audi = Car(\"Audi Q5\", 240, 18)\n",
    "print(\"color:\", audi.vehicle_color,\"vehicle name:\", audi.name, \"Speed:\", audi.max_speed, \"Mileage:\", audi.mileage)"
   ]
  },
  {
   "cell_type": "code",
   "execution_count": 15,
   "metadata": {},
   "outputs": [
    {
     "name": "stdout",
     "output_type": "stream",
     "text": [
      "till when!!!5\n",
      "['p1', 'q1', 'p2', 'q2', 'p3', 'q3', 'p4', 'q4', 'p5', 'q5']\n"
     ]
    }
   ],
   "source": [
    "# 5th question:\n",
    " \n",
    "list1=['p','q']\n",
    "list2=[]\n",
    "n=int(input('till when!!!'))\n",
    "for j in range(1,n+1):\n",
    "    for i in list1:\n",
    "        k=i+str(j)\n",
    "        list2.append(k)  \n",
    "print(list2)\n",
    "    "
   ]
  },
  {
   "cell_type": "code",
   "execution_count": 14,
   "metadata": {},
   "outputs": [
    {
     "name": "stdout",
     "output_type": "stream",
     "text": [
      "school volvo Speed: 180 Mileage: 12\n"
     ]
    }
   ],
   "source": [
    "#3rd question:\n",
    "\n",
    "class Vehicle:\n",
    "\n",
    "    def __init__(self, name, max_speed, mileage):\n",
    "        self.name = name\n",
    "        self.max_speed = max_speed\n",
    "        self.mileage = mileage\n",
    "\n",
    "class Bus(Vehicle):\n",
    "    pass\n",
    "\n",
    "class Car(Vehicle):\n",
    "    pass\n",
    "\n",
    "volvo = Bus(\"school volvo\", 180, 12)\n",
    "print(volvo.name, \"Speed:\", volvo.max_speed, \"Mileage:\", volvo.mileage)\n"
   ]
  },
  {
   "cell_type": "code",
   "execution_count": null,
   "metadata": {},
   "outputs": [],
   "source": []
  }
 ],
 "metadata": {
  "kernelspec": {
   "display_name": "Python 3",
   "language": "python",
   "name": "python3"
  },
  "language_info": {
   "codemirror_mode": {
    "name": "ipython",
    "version": 3
   },
   "file_extension": ".py",
   "mimetype": "text/x-python",
   "name": "python",
   "nbconvert_exporter": "python",
   "pygments_lexer": "ipython3",
   "version": "3.8.5"
  }
 },
 "nbformat": 4,
 "nbformat_minor": 4
}
