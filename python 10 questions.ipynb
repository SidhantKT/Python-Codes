{
 "cells": [
  {
   "cell_type": "code",
   "execution_count": 6,
   "metadata": {},
   "outputs": [
    {
     "name": "stdin",
     "output_type": "stream",
     "text": [
      "entr the celcius 97\n"
     ]
    },
    {
     "name": "stdout",
     "output_type": "stream",
     "text": [
      "36.111111111111114\n"
     ]
    }
   ],
   "source": [
    "a= float(input(\"entr the fahrenheit\"))\n",
    "b= (5/9*(a-32))\n",
    "print(b)"
   ]
  },
  {
   "cell_type": "code",
   "execution_count": 4,
   "metadata": {},
   "outputs": [
    {
     "name": "stdin",
     "output_type": "stream",
     "text": [
      "enter the radius 22\n"
     ]
    },
    {
     "name": "stdout",
     "output_type": "stream",
     "text": [
      "area 1519.76  perimeter 138.16\n"
     ]
    }
   ],
   "source": [
    "a= float(input(\"enter the radius\"))\n",
    "b= 3.14*a*a\n",
    "c= 2*3.14*a\n",
    "print( \"area {}  perimeter {}\". format(b,c))"
   ]
  },
  {
   "cell_type": "code",
   "execution_count": 7,
   "metadata": {},
   "outputs": [
    {
     "name": "stdin",
     "output_type": "stream",
     "text": [
      "1st: 2\n",
      "2nd: 1\n",
      "3rd: 3\n"
     ]
    },
    {
     "name": "stdout",
     "output_type": "stream",
     "text": [
      "2.0\n"
     ]
    }
   ],
   "source": [
    "a= float(input(\"1st:\"))\n",
    "b= float(input(\"2nd:\"))\n",
    "c= float(input(\"3rd:\"))\n",
    "d= (a+b+c)/3\n",
    "print(d)"
   ]
  },
  {
   "cell_type": "code",
   "execution_count": null,
   "metadata": {},
   "outputs": [],
   "source": [
    "\n",
    "a=float(input(\"Enter 1st side:\"))\n",
    "b=float(input(\"Enter 2nd side:\"))\n",
    "c=float(input(\"Enter 3rd side:\"))\n",
    "s=(a+b+c)/2\n",
    "area=(s*(s-a)(s-b)(s-c))\n",
    "print(\"The area is \",area)"
   ]
  },
  {
   "cell_type": "code",
   "execution_count": null,
   "metadata": {},
   "outputs": [],
   "source": [
    "#area and perimeter of a circle\n",
    "pr=  float(input(\"principal:\"))\n",
    "r= float(input(\"rate:\"))\n",
    "time = float(input(\"time:\"))\n",
    "si= (pr*r*time)/100\n",
    "ma= pr + si\n",
    "print(\"simple interest \"  . format(si))\n",
    "print(\"maturity amount \"+ str(ma))"
   ]
  },
  {
   "cell_type": "code",
   "execution_count": null,
   "metadata": {},
   "outputs": [],
   "source": [
    "#velocity in m/s\n",
    "vel= float(input(\"velocity in km/hr:\"))\n",
    "met= vel* (5/18)\n",
    "print (\"velocity in m/s : {}\".format(met))"
   ]
  },
  {
   "cell_type": "code",
   "execution_count": null,
   "metadata": {},
   "outputs": [],
   "source": [
    "#number of seconds lived\n",
    "age= float(input(\"enter your age\"))\n",
    "sec= age* 3.156*10**7\n",
    "print(sec, \"seconds\")"
   ]
  },
  {
   "cell_type": "code",
   "execution_count": null,
   "metadata": {},
   "outputs": [],
   "source": []
  },
  {
   "cell_type": "code",
   "execution_count": null,
   "metadata": {},
   "outputs": [],
   "source": []
  },
  {
   "cell_type": "code",
   "execution_count": null,
   "metadata": {},
   "outputs": [],
   "source": []
  },
  {
   "cell_type": "code",
   "execution_count": null,
   "metadata": {},
   "outputs": [],
   "source": []
  }
 ],
 "metadata": {
  "kernelspec": {
   "display_name": "Python 3",
   "language": "python",
   "name": "python3"
  },
  "language_info": {
   "codemirror_mode": {
    "name": "ipython",
    "version": 3
   },
   "file_extension": ".py",
   "mimetype": "text/x-python",
   "name": "python",
   "nbconvert_exporter": "python",
   "pygments_lexer": "ipython3",
   "version": "3.8.5"
  }
 },
 "nbformat": 4,
 "nbformat_minor": 4
}
