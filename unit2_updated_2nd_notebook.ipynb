{
 "cells": [
  {
   "cell_type": "code",
   "execution_count": 1,
   "metadata": {},
   "outputs": [
    {
     "name": "stdout",
     "output_type": "stream",
     "text": [
      "h\n",
      "m\n",
      "m\n",
      "m\n",
      "|\n",
      "|\n",
      "|\n",
      "|\n"
     ]
    }
   ],
   "source": [
    "#printing all\n",
    "enterr='hmmm||||'\n",
    "for i in enterr:\n",
    "    print(i)"
   ]
  },
  {
   "cell_type": "code",
   "execution_count": 2,
   "metadata": {},
   "outputs": [
    {
     "name": "stdout",
     "output_type": "stream",
     "text": [
      "13\n"
     ]
    }
   ],
   "source": [
    "#letter counting\n",
    "entorr='referigerator'\n",
    "count=0\n",
    "for i in entorr:\n",
    "    count+=1\n",
    "print(count)"
   ]
  },
  {
   "cell_type": "code",
   "execution_count": 4,
   "metadata": {},
   "outputs": [
    {
     "name": "stdout",
     "output_type": "stream",
     "text": [
      "enter your first name::vijay\n",
      "enter your middle name::kumar\n",
      "enter your last name::murli\n",
      "V.K.MURLI\n"
     ]
    }
   ],
   "source": [
    "#Abbreviating name\n",
    "pehla_naam=input(\"enter your first name::\")\n",
    "beech_ka=input(\"enter your middle name::\")\n",
    "pichla_naam=input(\"enter your last name::\")\n",
    "naam= pehla_naam[0]+'.'+beech_ka[0]+'.'+pichla_naam\n",
    "print(naam.upper())"
   ]
  },
  {
   "cell_type": "code",
   "execution_count": 5,
   "metadata": {},
   "outputs": [
    {
     "name": "stdout",
     "output_type": "stream",
     "text": [
      "enter the number:: 1\n",
      "enter the number:: 1\n",
      "enter the number:: 1\n",
      "3\n"
     ]
    }
   ],
   "source": [
    "#adding the numbers\n",
    "count=0\n",
    "for i in range (0, 3):\n",
    "    a=int(input('enter the number:: '))\n",
    "    count+=a\n",
    "print(count)"
   ]
  },
  {
   "cell_type": "code",
   "execution_count": 8,
   "metadata": {},
   "outputs": [
    {
     "name": "stdout",
     "output_type": "stream",
     "text": [
      "enter the string::bfbbdskb\n",
      "first 2: bf\n",
      "last 2: kb\n"
     ]
    }
   ],
   "source": [
    "#printing last 2 and first 2 string\n",
    "entorr= input('enter the string::')\n",
    "count=len(entorr)\n",
    "if count>=2:\n",
    "    print('first 2:',entorr[0]+entorr[1])\n",
    "    print('last 2:',entorr[-2]+entorr[-1])\n",
    "elif count<2:\n",
    "    print('not eligible')\n"
   ]
  },
  {
   "cell_type": "code",
   "execution_count": 10,
   "metadata": {},
   "outputs": [
    {
     "name": "stdout",
     "output_type": "stream",
     "text": [
      "enter your string: suddenly\n",
      "suddenlying\n"
     ]
    }
   ],
   "source": [
    "#adding ing and ly at the end\n",
    "letter=input(\"enter your string: \")\n",
    "if len(letter)>=3:\n",
    "    if letter[-3]=='i' and letter[-2]=='n' and letter[-1]=='g':\n",
    "        letter+='ly'\n",
    "    else:\n",
    "        letter+='ing'\n",
    "print(letter)"
   ]
  },
  {
   "cell_type": "code",
   "execution_count": 23,
   "metadata": {},
   "outputs": [
    {
     "name": "stdout",
     "output_type": "stream",
     "text": [
      "enter the string:Yanjas\n",
      "sanjaY\n"
     ]
    }
   ],
   "source": [
    "#exchanging the last and first last letters\n",
    "entrr=input('enter the string:')\n",
    "count= len(entrr)\n",
    "new=''\n",
    "new=new + entrr[-1]\n",
    "for i in range (1,count-1):\n",
    "    new=new + entrr[i]\n",
    "new=new + entrr[0]\n",
    "print(new)"
   ]
  },
  {
   "cell_type": "code",
   "execution_count": 1,
   "metadata": {},
   "outputs": [
    {
     "name": "stdout",
     "output_type": "stream",
     "text": [
      "enter the string:: buojljd\n",
      "bold\n"
     ]
    }
   ],
   "source": [
    "#remove the odd indexed strings\n",
    "entrr= input('enter the string:: ')\n",
    "count= len(entrr)\n",
    "new=''\n",
    "for i in range(0,count,2):\n",
    "    new= new + entrr[i]\n",
    "print(new)"
   ]
  },
  {
   "cell_type": "code",
   "execution_count": null,
   "metadata": {},
   "outputs": [],
   "source": [
    "#this is the missing one 9th question"
   ]
  },
  {
   "cell_type": "code",
   "execution_count": 44,
   "metadata": {},
   "outputs": [
    {
     "name": "stdout",
     "output_type": "stream",
     "text": [
      "this is the correct one without extra space::  Can you flyy yyyy . \n"
     ]
    }
   ],
   "source": [
    "#removing all the spaces from the string\n",
    "a= \"  Can      you            flyy yyyy .        \"\n",
    "b=''\n",
    "flag=0\n",
    "for i in range(0,len(a)):\n",
    "    check=int(ord(a[i]))\n",
    "    if check!=32 and flag==0:\n",
    "        b=b+a[i]\n",
    "    elif check==32 and flag==0:\n",
    "        b=b+a[i]\n",
    "        flag=1\n",
    "    elif check!=32 and flag==1:\n",
    "        b=b+a[i]\n",
    "        flag=0\n",
    "    elif check==32 and flag==1:\n",
    "        continue\n",
    "        \n",
    "        \n",
    "print(\"this is the correct one without extra space::\",b)\n",
    "        \n"
   ]
  },
  {
   "cell_type": "code",
   "execution_count": 10,
   "metadata": {},
   "outputs": [
    {
     "name": "stdout",
     "output_type": "stream",
     "text": [
      "10\n"
     ]
    }
   ],
   "source": [
    "#adding all the items in the list\n",
    "list=[1,2,1,1,5]\n",
    "total=0\n",
    "for i in list:\n",
    "    total= total+i\n",
    "print(total)"
   ]
  },
  {
   "cell_type": "code",
   "execution_count": 11,
   "metadata": {},
   "outputs": [
    {
     "name": "stdout",
     "output_type": "stream",
     "text": [
      "i love python \n"
     ]
    }
   ],
   "source": [
    "#converting list into string\n",
    "list=['i','love','python']\n",
    "string=''\n",
    "for i in list:\n",
    "    string= string +i +' '\n",
    "print (string)"
   ]
  },
  {
   "cell_type": "code",
   "execution_count": 15,
   "metadata": {},
   "outputs": [
    {
     "name": "stdout",
     "output_type": "stream",
     "text": [
      "['so', 'here', 'we', 'go']\n"
     ]
    }
   ],
   "source": [
    "#converting a string into list\n",
    "string='so here we go'\n",
    "list=string.split(' ')\n",
    "print(list)"
   ]
  },
  {
   "cell_type": "code",
   "execution_count": 25,
   "metadata": {},
   "outputs": [
    {
     "name": "stdout",
     "output_type": "stream",
     "text": [
      "0\n",
      "3\n",
      "3\n",
      "[1, 2, 3, 6, 7, 8]\n"
     ]
    }
   ],
   "source": [
    "# removing the 0th, 4th and 5th element\n",
    "list=[0,1,2,3,4,5,6,7,8]\n",
    "toremove=[0,3,3]      \n",
    "\n",
    "# first 3 because 1 of them is deleted and next 3 because now the 5th element is the 3rd element after removing the first two\n",
    "\n",
    "\n",
    "for i in toremove:\n",
    "    list.remove(list[i])\n",
    "print(list)"
   ]
  },
  {
   "cell_type": "code",
   "execution_count": 4,
   "metadata": {},
   "outputs": [
    {
     "name": "stdout",
     "output_type": "stream",
     "text": [
      "[25, 36, 49, 64]\n"
     ]
    }
   ],
   "source": [
    "# squaring and printing the square list of given values\n",
    "list=[5,6,7,8]\n",
    "sqrlist=[]\n",
    "for i in list:\n",
    "    square= i * i\n",
    "    sqrlist.append(square)\n",
    "print(sqrlist)"
   ]
  },
  {
   "cell_type": "code",
   "execution_count": 43,
   "metadata": {},
   "outputs": [
    {
     "name": "stdout",
     "output_type": "stream",
     "text": [
      "['a', 'x', 'b', 'f', 'g', 'h', 'c']\n"
     ]
    }
   ],
   "source": [
    "#flattening a given list \n",
    "list1=[['a','x'],['b','f','g','h'],['c']]\n",
    "total= len(list1)\n",
    "in_total=[]\n",
    "\n",
    "flat_list=[]\n",
    "\n",
    "for i in range(0,total):\n",
    "    x=len(list1[i])\n",
    "    in_total.append(x)\n",
    "    \n",
    "    \n",
    "for i in (0,total):\n",
    "    for j in range(0,in_total[i]):\n",
    "        flat_list.append(list1[i][j])\n",
    "\n",
    "print(flat_list)"
   ]
  },
  {
   "cell_type": "code",
   "execution_count": 41,
   "metadata": {},
   "outputs": [
    {
     "name": "stdout",
     "output_type": "stream",
     "text": [
      "till when!!!5\n",
      "['p1', 'q1', 'p2', 'q2', 'p3', 'q3', 'p4', 'q4', 'p5', 'q5']\n"
     ]
    }
   ],
   "source": [
    "#cocatenating a given list from 1 to n\n",
    "list1=['p','q']\n",
    "list2=[]\n",
    "n=int(input('till when!!!'))\n",
    "for j in range(1,n+1):\n",
    "    for i in list1:\n",
    "        k=i+str(j)\n",
    "        list2.append(k)  \n",
    "print(list2)\n",
    "    "
   ]
  },
  {
   "cell_type": "code",
   "execution_count": null,
   "metadata": {},
   "outputs": [],
   "source": []
  }
 ],
 "metadata": {
  "kernelspec": {
   "display_name": "Python 3",
   "language": "python",
   "name": "python3"
  },
  "language_info": {
   "codemirror_mode": {
    "name": "ipython",
    "version": 3
   },
   "file_extension": ".py",
   "mimetype": "text/x-python",
   "name": "python",
   "nbconvert_exporter": "python",
   "pygments_lexer": "ipython3",
   "version": "3.8.5"
  }
 },
 "nbformat": 4,
 "nbformat_minor": 4
}
